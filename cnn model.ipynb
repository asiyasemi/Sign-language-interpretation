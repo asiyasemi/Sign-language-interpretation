{
 "cells": [
  {
   "cell_type": "code",
   "execution_count": 6,
   "id": "0e47cf20",
   "metadata": {},
   "outputs": [],
   "source": [
    "import os\n",
    "import cv2\n",
    "import numpy as np\n",
    "from sklearn.model_selection import train_test_split\n",
    "from keras.utils import to_categorical\n",
    "from keras.models import Sequential\n",
    "from keras.layers import Conv2D, MaxPooling2D, Flatten, Dense\n",
    "from keras.callbacks import EarlyStopping, ModelCheckpoint, ReduceLROnPlateau\n",
    "from sklearn.model_selection import train_test_split\n"
   ]
  },
  {
   "cell_type": "code",
   "execution_count": 8,
   "id": "e59782e9",
   "metadata": {},
   "outputs": [
    {
     "name": "stdout",
     "output_type": "stream",
     "text": [
      "WARNING:tensorflow:From C:\\Users\\Semi\\anaconda3\\lib\\site-packages\\keras\\src\\backend.py:873: The name tf.get_default_graph is deprecated. Please use tf.compat.v1.get_default_graph instead.\n",
      "\n",
      "WARNING:tensorflow:From C:\\Users\\Semi\\anaconda3\\lib\\site-packages\\keras\\src\\layers\\pooling\\max_pooling2d.py:161: The name tf.nn.max_pool is deprecated. Please use tf.nn.max_pool2d instead.\n",
      "\n",
      "WARNING:tensorflow:From C:\\Users\\Semi\\anaconda3\\lib\\site-packages\\keras\\src\\optimizers\\__init__.py:309: The name tf.train.Optimizer is deprecated. Please use tf.compat.v1.train.Optimizer instead.\n",
      "\n",
      "Epoch 1/10\n",
      "WARNING:tensorflow:From C:\\Users\\Semi\\anaconda3\\lib\\site-packages\\keras\\src\\utils\\tf_utils.py:492: The name tf.ragged.RaggedTensorValue is deprecated. Please use tf.compat.v1.ragged.RaggedTensorValue instead.\n",
      "\n",
      "WARNING:tensorflow:From C:\\Users\\Semi\\anaconda3\\lib\\site-packages\\keras\\src\\engine\\base_layer_utils.py:384: The name tf.executing_eagerly_outside_functions is deprecated. Please use tf.compat.v1.executing_eagerly_outside_functions instead.\n",
      "\n",
      "123/123 [==============================] - 77s 574ms/step - loss: 0.4095 - accuracy: 0.9028 - val_loss: 0.0429 - val_accuracy: 0.9837\n",
      "Epoch 2/10\n",
      "123/123 [==============================] - 67s 542ms/step - loss: 0.0195 - accuracy: 0.9949 - val_loss: 0.0626 - val_accuracy: 0.9797\n",
      "Epoch 3/10\n",
      "123/123 [==============================] - 73s 597ms/step - loss: 0.0212 - accuracy: 0.9954 - val_loss: 0.0044 - val_accuracy: 0.9980\n",
      "Epoch 4/10\n",
      "123/123 [==============================] - 70s 571ms/step - loss: 3.9907e-05 - accuracy: 1.0000 - val_loss: 0.0011 - val_accuracy: 1.0000\n",
      "Epoch 5/10\n",
      "123/123 [==============================] - 65s 532ms/step - loss: 9.1262e-06 - accuracy: 1.0000 - val_loss: 8.2528e-04 - val_accuracy: 1.0000\n",
      "Epoch 6/10\n",
      "123/123 [==============================] - 62s 505ms/step - loss: 6.5576e-06 - accuracy: 1.0000 - val_loss: 7.7115e-04 - val_accuracy: 1.0000\n",
      "Epoch 7/10\n",
      "123/123 [==============================] - 64s 519ms/step - loss: 4.8885e-06 - accuracy: 1.0000 - val_loss: 7.4379e-04 - val_accuracy: 1.0000\n",
      "Epoch 8/10\n",
      "123/123 [==============================] - 64s 517ms/step - loss: 3.9100e-06 - accuracy: 1.0000 - val_loss: 6.9241e-04 - val_accuracy: 1.0000\n",
      "Epoch 9/10\n",
      "123/123 [==============================] - 67s 547ms/step - loss: 3.1154e-06 - accuracy: 1.0000 - val_loss: 6.6850e-04 - val_accuracy: 1.0000\n",
      "Epoch 10/10\n",
      "123/123 [==============================] - 64s 521ms/step - loss: 2.5674e-06 - accuracy: 1.0000 - val_loss: 6.2084e-04 - val_accuracy: 1.0000\n",
      "16/16 [==============================] - 3s 167ms/step - loss: 6.2084e-04 - accuracy: 1.0000\n",
      "Test Loss: 0.0006, Test Accuracy: 1.0000\n"
     ]
    }
   ],
   "source": [
    "\n",
    "\n",
    "# Define the path to your data folder\n",
    "data_dir = \"C:/Users/Semi/Downloads/Sign language detection/data/\"\n",
    "\n",
    "def load_data(data_dir):\n",
    "    images = []\n",
    "    labels = []\n",
    "    class_folders = os.listdir(data_dir)\n",
    "    num_classes = len(class_folders)\n",
    "\n",
    "    for i, class_folder in enumerate(class_folders):\n",
    "        class_path = os.path.join(data_dir, class_folder)\n",
    "        for image_name in os.listdir(class_path):\n",
    "            image_path = os.path.join(class_path, image_name)\n",
    "            image = cv2.imread(image_path)\n",
    "            image = cv2.resize(image, (224, 224))  # Resize images to a common size\n",
    "            image = image.astype('float32') / 255.0  # Normalize pixel values\n",
    "            images.append(image)\n",
    "            labels.append(i)  # Assigning label based on folder index\n",
    "\n",
    "    images = np.array(images)\n",
    "    labels = to_categorical(np.array(labels), num_classes)  # Convert labels to categorical format\n",
    "    return images, labels, num_classes, class_folders\n",
    "\n",
    "# Load and preprocess the data\n",
    "images, labels, num_classes, class_folders = load_data(data_dir)\n",
    "\n",
    "# Split the data into training and testing sets\n",
    "X_train, X_test, y_train, y_test = train_test_split(images, labels, test_size=0.2, random_state=42)\n",
    "\n",
    "\n",
    "# Define the CNN model architecture\n",
    "\n",
    "model = Sequential()\n",
    "model.add(Conv2D(32, (3, 3), activation='relu', input_shape=(224, 224, 3)))\n",
    "model.add(MaxPooling2D((2, 2)))\n",
    "model.add(Conv2D(64, (3, 3), activation='relu'))\n",
    "model.add(MaxPooling2D((2, 2)))\n",
    "model.add(Conv2D(128, (3, 3), activation='relu'))\n",
    "model.add(MaxPooling2D((2, 2)))\n",
    "model.add(Flatten())\n",
    "model.add(Dense(128, activation='relu'))\n",
    "model.add(Dense(num_classes, activation='softmax'))\n",
    "# Compile the model\n",
    "model.compile(optimizer='adam', loss='categorical_crossentropy', metrics=['accuracy'])\n",
    "\n",
    "# Train the model\n",
    "history = model.fit(X_train, y_train, epochs=10, batch_size=16, validation_data=(X_test, y_test))\n",
    "\n",
    "# Evaluate the model\n",
    "loss, accuracy = model.evaluate(X_test, y_test)\n",
    "print(f\"Test Loss: {loss:.4f}, Test Accuracy: {accuracy:.4f}\")"
   ]
  },
  {
   "cell_type": "code",
   "execution_count": 9,
   "id": "0024f242",
   "metadata": {},
   "outputs": [
    {
     "name": "stderr",
     "output_type": "stream",
     "text": [
      "C:\\Users\\Semi\\anaconda3\\lib\\site-packages\\keras\\src\\engine\\training.py:3103: UserWarning: You are saving your model as an HDF5 file via `model.save()`. This file format is considered legacy. We recommend using instead the native Keras format, e.g. `model.save('my_model.keras')`.\n",
      "  saving_api.save_model(\n"
     ]
    }
   ],
   "source": [
    "\n",
    "# Save the trained model\n",
    "model.save('cnn_model_keras.h5')"
   ]
  },
  {
   "cell_type": "code",
   "execution_count": 10,
   "id": "06bcc1ed",
   "metadata": {},
   "outputs": [
    {
     "name": "stdout",
     "output_type": "stream",
     "text": [
      "Class Folders: ['Hello', 'Help', 'I love you', 'No', 'OK', 'Please', 'Sorry', 'Thank you', 'Yes']\n"
     ]
    }
   ],
   "source": [
    "data_dir = \"C:/Users/Semi/Downloads/Sign language detection/data/\"\n",
    "images, labels, num_classes, class_folders = load_data(data_dir)\n",
    "\n",
    "print(\"Class Folders:\", class_folders)"
   ]
  },
  {
   "cell_type": "code",
   "execution_count": null,
   "id": "3ad6cc35",
   "metadata": {},
   "outputs": [],
   "source": []
  }
 ],
 "metadata": {
  "kernelspec": {
   "display_name": "Python 3 (ipykernel)",
   "language": "python",
   "name": "python3"
  },
  "language_info": {
   "codemirror_mode": {
    "name": "ipython",
    "version": 3
   },
   "file_extension": ".py",
   "mimetype": "text/x-python",
   "name": "python",
   "nbconvert_exporter": "python",
   "pygments_lexer": "ipython3",
   "version": "3.10.9"
  }
 },
 "nbformat": 4,
 "nbformat_minor": 5
}
